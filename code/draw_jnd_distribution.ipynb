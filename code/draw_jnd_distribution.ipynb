{
 "cells": [
  {
   "cell_type": "markdown",
   "metadata": {},
   "source": [
    "## Load JND file and plot"
   ]
  },
  {
   "cell_type": "code",
   "execution_count": 16,
   "metadata": {},
   "outputs": [],
   "source": [
    "from matplotlib import cm\n",
    "import matplotlib.pyplot as plt\n",
    "import pandas as pd\n",
    "import numpy as np\n",
    "%matplotlib inline"
   ]
  },
  {
   "cell_type": "markdown",
   "metadata": {},
   "source": [
    "### 1. Load JND file"
   ]
  },
  {
   "cell_type": "code",
   "execution_count": 96,
   "metadata": {},
   "outputs": [],
   "source": [
    "chartType = 2\n",
    "chartName = ['bar', 'bubble', 'pie'][chartType] \n",
    "\n",
    "propertyIndex = 0 # 0: distance, 1: intensity\n",
    "liProperty = ['Distance', 'Intensity']\n",
    "\n",
    "df_jnd = pd.read_csv('../jnd/jnd_{ct}.csv'.format(ct=chartName))"
   ]
  },
  {
   "cell_type": "code",
   "execution_count": 97,
   "metadata": {},
   "outputs": [],
   "source": [
    "#set the filtering boundary\n",
    "bound_bar = [0.1, 50]\n",
    "bound_pie = [0.1, 60]\n",
    "bound_bubble = [0.1, 25]\n",
    "bound = [bound_bar, bound_bubble, bound_pie]"
   ]
  },
  {
   "cell_type": "code",
   "execution_count": 98,
   "metadata": {},
   "outputs": [],
   "source": [
    "# Function: group JNDs according by property\n",
    "#[input]\n",
    "#1. chartIndex: 0, 1, 2 for bar, bubble, pie\n",
    "#2. df: jnd Dataframe \n",
    "#3. propertyIndex: 0, 1 for distance, intensity\n",
    "#4. filterB: filter JND by bounds set above\n",
    "#5. boxMain: filter JND by boxplot setting, i.e., Q3 + 1.5 * IRQ\n",
    "\n",
    "def getGroups(chartIndex, df, propertyIndex, filterB, boxMain):\n",
    "    \n",
    "    lowouter = bound[chartIndex][0]\n",
    "    upouter = bound[chartIndex][1]\n",
    "    group = ['distance', 'intensity'][propertyIndex]\n",
    "    column = 'jnd'\n",
    "    grouped = df.groupby(group)\n",
    "\n",
    "    names, vals, xs, liUpBound = [], [] ,[], []\n",
    "\n",
    "    new_df = pd.DataFrame()\n",
    "    main_df = pd.DataFrame()\n",
    "    count = 0\n",
    "        \n",
    "    for i, (name, subdf) in enumerate(grouped):\n",
    "        names.append(name)\n",
    "        col = subdf[column].tolist()\n",
    "        if(filterB):\n",
    "            if(boxMain==True):\n",
    "                upouter = np.quantile(col, 0.75) + 1.5*(np.quantile(col, 0.75) - np.quantile(col, 0.25))\n",
    "            outlier = [x for x in col if x <= lowouter or x >= upouter]\n",
    "            col_filter = [x for x in col if x > lowouter and x < upouter]\n",
    "            subdf_filter = subdf[(subdf[column] < upouter) & (subdf[column] > lowouter)]\n",
    "        else:\n",
    "            outlier = []\n",
    "            col_filter = col\n",
    "            subdf_filter = subdf\n",
    "            \n",
    "#         print('#outlier={0}, #normal={1}'.format(len(outlier), len(col_filter)), outlier)\n",
    "        \n",
    "        count += len(outlier)\n",
    "        new_df = pd.concat([new_df, subdf_filter])\n",
    "        vals.append(col_filter)\n",
    "        xs.append(np.random.normal(i+1, 0.01, len(col_filter)))\n",
    "        \n",
    "    print('#outlier in total = {0}'.format(count), outlier)\n",
    "    return names, vals, xs, new_df, count\n"
   ]
  },
  {
   "cell_type": "code",
   "execution_count": 99,
   "metadata": {},
   "outputs": [
    {
     "name": "stdout",
     "output_type": "stream",
     "text": [
      "#outlier in total = 36 [13.52078214, 13.80691442, 14.98714644, 15.59245437, 16.20683837]\n",
      "#outlier in total = 40 [28.08653423, 47.44453796, 52.59223104, 64.10813237, 87.87544669, 121.4691621]\n"
     ]
    }
   ],
   "source": [
    "names1, vals1, x1, new_df1, count1 = getGroups(chartType, df_jnd, 0, True, True)\n",
    "names2, vals2, x2, new_df2, count2 = getGroups(chartType, df_jnd, 1, True, True)"
   ]
  },
  {
   "cell_type": "code",
   "execution_count": 100,
   "metadata": {},
   "outputs": [
    {
     "name": "stderr",
     "output_type": "stream",
     "text": [
      "/Library/Frameworks/Python.framework/Versions/3.8/lib/python3.8/site-packages/numpy/core/_asarray.py:83: VisibleDeprecationWarning: Creating an ndarray from ragged nested sequences (which is a list-or-tuple of lists-or-tuples-or ndarrays with different lengths or shapes) is deprecated. If you meant to do this, you must specify 'dtype=object' when creating the ndarray\n",
      "  return array(a, dtype, copy=False, order=order)\n"
     ]
    },
    {
     "data": {
      "image/png": "[encoded data removed]",
      "text/plain": [
       "<Figure size 576x360 with 1 Axes>"
      ]
     },
     "metadata": {
      "needs_background": "light"
     },
     "output_type": "display_data"
    }
   ],
   "source": [
    "names, vals, xs = [], [] ,[]\n",
    "df_now = pd.DataFrame()\n",
    "df_main_now = pd.DataFrame()\n",
    "\n",
    "# liProperty = ['distance', 'intensity']\n",
    "# propertyIndex = 0 # 0: distance, 1: intensity\n",
    "\n",
    "count = -1\n",
    "\n",
    "if(propertyIndex == 0):\n",
    "    names, vals, xs, df_now, count = names1, vals1, x1, new_df1, count1\n",
    "else:\n",
    "    names, vals, xs, df_now, count = names2, vals2, x2, new_df2, count2\n",
    "\n",
    "plt.figure(figsize=(8, 5))\n",
    "\n",
    "plt.boxplot(vals, labels=names)\n",
    "plt.violinplot(vals)\n",
    "\n",
    "ngroup = len(vals)\n",
    "clevels = np.linspace(0., 1., ngroup)\n",
    "\n",
    "indexC = 0\n",
    "unit = 'degree' if (chartName=='pie') else 'pixel'\n",
    "for x, val, clevel in zip(xs, vals, clevels):\n",
    "#     plt.scatter(x, val,  c='black', s=30, alpha=0.3)\n",
    "    plt.title('{cn} chart'.format(cn=chartName), fontSize=30)\n",
    "    plt.yticks(fontsize = 15)\n",
    "    plt.xticks(fontsize = 15)\n",
    "    plt.xlabel('{pro} ({unit})'.format(pro=liProperty[propertyIndex], unit=unit), fontsize=20)\n",
    "#     plt.xlabel('Angular Distance (degree)', fontsize=20)\n",
    "    plt.ylabel('JND ({unit})'.format(unit=unit), fontsize=20)\n",
    "    indexC += 1"
   ]
  },
  {
   "cell_type": "code",
   "execution_count": 95,
   "metadata": {},
   "outputs": [],
   "source": [
    "new_df1.to_csv('./jnd_{ct}_filter.csv'.format(ct=chartName), index=None)"
   ]
  },
  {
   "cell_type": "code",
   "execution_count": 55,
   "metadata": {},
   "outputs": [
    {
     "ename": "SyntaxError",
     "evalue": "invalid syntax (<ipython-input-55-dbc59bbce3e7>, line 1)",
     "output_type": "error",
     "traceback": [
      "\u001b[0;36m  File \u001b[0;32m\"<ipython-input-55-dbc59bbce3e7>\"\u001b[0;36m, line \u001b[0;32m1\u001b[0m\n\u001b[0;31m    chartName=='pie'?1:0\u001b[0m\n\u001b[0m                    ^\u001b[0m\n\u001b[0;31mSyntaxError\u001b[0m\u001b[0;31m:\u001b[0m invalid syntax\n"
     ]
    }
   ],
   "source": [
    "chartName=='pie'?1:0"
   ]
  },
  {
   "cell_type": "code",
   "execution_count": null,
   "metadata": {},
   "outputs": [],
   "source": []
  }
 ],
 "metadata": {
  "kernelspec": {
   "display_name": "Python 3",
   "language": "python",
   "name": "python3"
  },
  "language_info": {
   "codemirror_mode": {
    "name": "ipython",
    "version": 3
   },
   "file_extension": ".py",
   "mimetype": "text/x-python",
   "name": "python",
   "nbconvert_exporter": "python",
   "pygments_lexer": "ipython3",
   "version": "3.8.0"
  }
 },
 "nbformat": 4,
 "nbformat_minor": 2
}
