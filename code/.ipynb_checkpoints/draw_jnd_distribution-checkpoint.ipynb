{
 "cells": [
  {
   "cell_type": "markdown",
   "metadata": {},
   "source": [
    "## Load JND file and plot"
   ]
  },
  {
   "cell_type": "code",
   "execution_count": 3,
   "metadata": {},
   "outputs": [
    {
     "ename": "ImportError",
     "evalue": "Missing required dependencies ['numpy']",
     "output_type": "error",
     "traceback": [
      "\u001b[1;31m---------------------------------------------------------------------------\u001b[0m",
      "\u001b[1;31mImportError\u001b[0m                               Traceback (most recent call last)",
      "\u001b[1;32m<ipython-input-3-ca4f182f4662>\u001b[0m in \u001b[0;36m<module>\u001b[1;34m()\u001b[0m\n\u001b[0;32m      1\u001b[0m \u001b[1;31m# from matplotlib import cm\u001b[0m\u001b[1;33m\u001b[0m\u001b[1;33m\u001b[0m\u001b[0m\n\u001b[0;32m      2\u001b[0m \u001b[1;31m# import matplotlib.pyplot as plt\u001b[0m\u001b[1;33m\u001b[0m\u001b[1;33m\u001b[0m\u001b[0m\n\u001b[1;32m----> 3\u001b[1;33m \u001b[1;32mimport\u001b[0m \u001b[0mpandas\u001b[0m \u001b[1;32mas\u001b[0m \u001b[0mpd\u001b[0m\u001b[1;33m\u001b[0m\u001b[0m\n\u001b[0m\u001b[0;32m      4\u001b[0m \u001b[1;32mimport\u001b[0m \u001b[0mnumpy\u001b[0m \u001b[1;32mas\u001b[0m \u001b[0mnp\u001b[0m\u001b[1;33m\u001b[0m\u001b[0m\n\u001b[0;32m      5\u001b[0m \u001b[1;31m# %matplotlib inline\u001b[0m\u001b[1;33m\u001b[0m\u001b[1;33m\u001b[0m\u001b[0m\n",
      "\u001b[1;32md:\\Users\\Window7\\Anaconda3_32bit\\lib\\site-packages\\pandas\\__init__.py\u001b[0m in \u001b[0;36m<module>\u001b[1;34m()\u001b[0m\n\u001b[0;32m     17\u001b[0m \u001b[1;32mif\u001b[0m \u001b[0mmissing_dependencies\u001b[0m\u001b[1;33m:\u001b[0m\u001b[1;33m\u001b[0m\u001b[0m\n\u001b[0;32m     18\u001b[0m     raise ImportError(\n\u001b[1;32m---> 19\u001b[1;33m         \"Missing required dependencies {0}\".format(missing_dependencies))\n\u001b[0m\u001b[0;32m     20\u001b[0m \u001b[1;32mdel\u001b[0m \u001b[0mhard_dependencies\u001b[0m\u001b[1;33m,\u001b[0m \u001b[0mdependency\u001b[0m\u001b[1;33m,\u001b[0m \u001b[0mmissing_dependencies\u001b[0m\u001b[1;33m\u001b[0m\u001b[0m\n\u001b[0;32m     21\u001b[0m \u001b[1;33m\u001b[0m\u001b[0m\n",
      "\u001b[1;31mImportError\u001b[0m: Missing required dependencies ['numpy']"
     ]
    }
   ],
   "source": [
    "from matplotlib import cm\n",
    "import matplotlib.pyplot as plt\n",
    "import pandas as pd\n",
    "import numpy as np\n",
    "%matplotlib inline"
   ]
  },
  {
   "cell_type": "markdown",
   "metadata": {},
   "source": [
    "### 1. Load JND file"
   ]
  },
  {
   "cell_type": "code",
   "execution_count": 5,
   "metadata": {},
   "outputs": [
    {
     "ename": "ImportError",
     "evalue": "Missing required dependencies ['numpy']",
     "output_type": "error",
     "traceback": [
      "\u001b[1;31m---------------------------------------------------------------------------\u001b[0m",
      "\u001b[1;31mImportError\u001b[0m                               Traceback (most recent call last)",
      "\u001b[1;32m<ipython-input-5-fe5b4818f9e9>\u001b[0m in \u001b[0;36m<module>\u001b[1;34m()\u001b[0m\n\u001b[1;32m----> 1\u001b[1;33m \u001b[1;32mimport\u001b[0m \u001b[0mpandas\u001b[0m \u001b[1;32mas\u001b[0m \u001b[0mpd\u001b[0m\u001b[1;33m\u001b[0m\u001b[0m\n\u001b[0m\u001b[0;32m      2\u001b[0m \u001b[0mchartType\u001b[0m \u001b[1;33m=\u001b[0m \u001b[1;36m1\u001b[0m\u001b[1;33m\u001b[0m\u001b[0m\n\u001b[0;32m      3\u001b[0m \u001b[0mchartName\u001b[0m \u001b[1;33m=\u001b[0m \u001b[1;33m[\u001b[0m\u001b[1;34m'bar'\u001b[0m\u001b[1;33m,\u001b[0m \u001b[1;34m'bubble'\u001b[0m\u001b[1;33m,\u001b[0m \u001b[1;34m'pie'\u001b[0m\u001b[1;33m]\u001b[0m\u001b[1;33m[\u001b[0m\u001b[0mchartType\u001b[0m\u001b[1;33m]\u001b[0m\u001b[1;33m\u001b[0m\u001b[0m\n\u001b[0;32m      4\u001b[0m \u001b[1;33m\u001b[0m\u001b[0m\n\u001b[0;32m      5\u001b[0m \u001b[0mpropertyIndex\u001b[0m \u001b[1;33m=\u001b[0m \u001b[1;36m0\u001b[0m \u001b[1;31m# 0: distance, 1: intensity\u001b[0m\u001b[1;33m\u001b[0m\u001b[0m\n",
      "\u001b[1;32md:\\Users\\Window7\\Anaconda3_32bit\\lib\\site-packages\\pandas\\__init__.py\u001b[0m in \u001b[0;36m<module>\u001b[1;34m()\u001b[0m\n\u001b[0;32m     17\u001b[0m \u001b[1;32mif\u001b[0m \u001b[0mmissing_dependencies\u001b[0m\u001b[1;33m:\u001b[0m\u001b[1;33m\u001b[0m\u001b[0m\n\u001b[0;32m     18\u001b[0m     raise ImportError(\n\u001b[1;32m---> 19\u001b[1;33m         \"Missing required dependencies {0}\".format(missing_dependencies))\n\u001b[0m\u001b[0;32m     20\u001b[0m \u001b[1;32mdel\u001b[0m \u001b[0mhard_dependencies\u001b[0m\u001b[1;33m,\u001b[0m \u001b[0mdependency\u001b[0m\u001b[1;33m,\u001b[0m \u001b[0mmissing_dependencies\u001b[0m\u001b[1;33m\u001b[0m\u001b[0m\n\u001b[0;32m     21\u001b[0m \u001b[1;33m\u001b[0m\u001b[0m\n",
      "\u001b[1;31mImportError\u001b[0m: Missing required dependencies ['numpy']"
     ]
    }
   ],
   "source": [
    "chartType = 1\n",
    "chartName = ['bar', 'bubble', 'pie'][chartType] \n",
    "\n",
    "propertyIndex = 0 # 0: distance, 1: intensity\n",
    "liProperty = ['distance', 'intensity']\n",
    "\n",
    "df_jnd = pd.read_csv('../jnd/jnd_{ct}.csv'.format(ct=chartName))"
   ]
  },
  {
   "cell_type": "code",
   "execution_count": 190,
   "metadata": {},
   "outputs": [],
   "source": [
    "#set the filtering boundary\n",
    "bound_bar = [0.1, 50]\n",
    "bound_pie = [0.1, 60]\n",
    "bound_bubble = [0.1, 25]\n",
    "bound = [bound_bar, bound_bubble, bound_pie]"
   ]
  },
  {
   "cell_type": "code",
   "execution_count": 191,
   "metadata": {},
   "outputs": [],
   "source": [
    "# Function: group JNDs according by property\n",
    "#[input]\n",
    "#1. chartIndex: 0, 1, 2 for bar, bubble, pie\n",
    "#2. df: jnd Dataframe \n",
    "#3. propertyIndex: 0, 1 for distance, intensity\n",
    "#4. filterB: filter JND by bounds set above\n",
    "#5. boxMain: filter JND by boxplot setting, i.e., Q3 + 1.5 * IRQ\n",
    "\n",
    "def getGroups(chartIndex, df, propertyIndex, filterB, boxMain):\n",
    "    \n",
    "    lowouter = bound[chartIndex][0]\n",
    "    upouter = bound[chartIndex][1]\n",
    "    group = ['distance', 'intensity'][propertyIndex]\n",
    "    column = 'jnd'\n",
    "    grouped = df.groupby(group)\n",
    "\n",
    "    names, vals, xs, liUpBound = [], [] ,[], []\n",
    "\n",
    "    new_df = pd.DataFrame()\n",
    "    main_df = pd.DataFrame()\n",
    "    count = 0\n",
    "        \n",
    "    for i, (name, subdf) in enumerate(grouped):\n",
    "        names.append(name)\n",
    "        col = subdf[column].tolist()\n",
    "        if(filterB):\n",
    "            if(boxMain==True):\n",
    "                upouter = np.quantile(col, 0.75) + 1.5*(np.quantile(col, 0.75) - np.quantile(col, 0.25))\n",
    "            outlier = [x for x in col if x <= lowouter or x >= upouter]\n",
    "            col_filter = [x for x in col if x > lowouter and x < upouter]\n",
    "            subdf_filter = subdf[(subdf[column] < upouter) & (subdf[column] > lowouter)]\n",
    "        else:\n",
    "            outlier = []\n",
    "            col_filter = col\n",
    "            subdf_filter = subdf\n",
    "            \n",
    "        print('#outlier={0}, #normal={1}'.format(len(outlier), len(col_filter)), outlier)\n",
    "        \n",
    "        count += len(outlier)\n",
    "        new_df = pd.concat([new_df, subdf_filter])\n",
    "        vals.append(col_filter)\n",
    "        xs.append(np.random.normal(i+1, 0.01, len(col_filter)))\n",
    "        \n",
    "    print('#outlier in total = {0}'.format(count), outlier)\n",
    "    return names, vals, xs, new_df, count\n"
   ]
  },
  {
   "cell_type": "code",
   "execution_count": 192,
   "metadata": {},
   "outputs": [
    {
     "name": "stdout",
     "output_type": "stream",
     "text": [
      "#outlier=1, #normal=139 [25.354135956066603]\n",
      "#outlier=0, #normal=140 []\n",
      "#outlier=0, #normal=140 []\n",
      "#outlier=0, #normal=140 []\n",
      "#outlier=0, #normal=140 []\n",
      "#outlier in total = 1 []\n",
      "#outlier=0, #normal=140 []\n",
      "#outlier=0, #normal=140 []\n",
      "#outlier=0, #normal=140 []\n",
      "#outlier=1, #normal=139 [25.354135956066603]\n",
      "#outlier=0, #normal=140 []\n",
      "#outlier in total = 1 []\n"
     ]
    }
   ],
   "source": [
    "names1, vals1, x1, new_df1, count1 = getGroups(chartType, df_jnd, 0, True, False)\n",
    "names2, vals2, x2, new_df2, count2 = getGroups(chartType, df_jnd, 1, True, False)"
   ]
  },
  {
   "cell_type": "code",
   "execution_count": 193,
   "metadata": {},
   "outputs": [
    {
     "data": {
      "image/png": "[encoded data removed]",
      "text/plain": [
       "<matplotlib.figure.Figure at 0x11e007710>"
      ]
     },
     "metadata": {
      "needs_background": "light"
     },
     "output_type": "display_data"
    }
   ],
   "source": [
    "names, vals, xs = [], [] ,[]\n",
    "df_now = pd.DataFrame()\n",
    "df_main_now = pd.DataFrame()\n",
    "liProperty = ['distance', 'intensity']\n",
    "\n",
    "propertyIndex = 0 # 0: distance, 1: intensity\n",
    "\n",
    "count = -1\n",
    "\n",
    "if(propertyIndex == 0):\n",
    "    names, vals, xs, df_now, df_main_now, count = names1, vals1, x1, new_df1, main_df1, count1\n",
    "else:\n",
    "    names, vals, xs, df_now, df_main_now, count = names2, vals2, x2, new_df2, main_df2, count2\n",
    "\n",
    "plt.figure(figsize=(8, 5))\n",
    "\n",
    "plt.boxplot(vals, labels=names)\n",
    "\n",
    "ngroup = len(vals)\n",
    "clevels = np.linspace(0., 1., ngroup)\n",
    "\n",
    "indexC = 0\n",
    "for x, val, clevel in zip(xs, vals, clevels):\n",
    "#     plt.scatter(x, val,  c='black', s=30, alpha=0.3)\n",
    "#     plt.title('Bar Chart', fontSize=30)\n",
    "    plt.yticks(fontsize = 15)\n",
    "    plt.xticks(fontsize = 15)\n",
    "#     plt.xlabel((liProperty[propertyIndex] + ' (pixel)'), fontsize=15)\n",
    "    plt.xlabel(('Radius (pixel)'), fontsize=20)\n",
    "    plt.ylabel('JND (pixel)', fontsize=20)\n",
    "    indexC += 1"
   ]
  },
  {
   "cell_type": "code",
   "execution_count": 56,
   "metadata": {},
   "outputs": [],
   "source": [
    "new_df1.to_csv('./jnd_{ct}_filter.csv'.format(ct=chartName), index=None)"
   ]
  }
 ],
 "metadata": {
  "kernelspec": {
   "display_name": "Python 3",
   "language": "python",
   "name": "python3"
  },
  "language_info": {
   "codemirror_mode": {
    "name": "ipython",
    "version": 3
   },
   "file_extension": ".py",
   "mimetype": "text/x-python",
   "name": "python",
   "nbconvert_exporter": "python",
   "pygments_lexer": "ipython3",
   "version": "3.6.5"
  }
 },
 "nbformat": 4,
 "nbformat_minor": 2
}
